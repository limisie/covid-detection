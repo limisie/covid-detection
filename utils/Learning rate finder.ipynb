{
 "cells": [
  {
   "cell_type": "code",
   "execution_count": 1,
   "id": "fe977015",
   "metadata": {},
   "outputs": [],
   "source": [
    "from __future__ import print_function, division\n",
    "\n",
    "import os\n",
    "\n",
    "import numpy as np\n",
    "import torch\n",
    "from torch import nn, optim\n",
    "from torchvision import datasets, models, transforms, utils\n",
    "from torch_lr_finder import LRFinder\n",
    "\n",
    "from matplotlib import pyplot as plt, cycler, ticker"
   ]
  },
  {
   "cell_type": "code",
   "execution_count": 6,
   "id": "da57ec8c",
   "metadata": {},
   "outputs": [],
   "source": [
    "BATCH_SIZE = 8\n",
    "CLASSES = 2\n",
    "DATA_ROOT = '../data/test/'"
   ]
  },
  {
   "cell_type": "code",
   "execution_count": 3,
   "id": "b90d3026",
   "metadata": {},
   "outputs": [],
   "source": [
    "device = torch.device(\"cuda:0\" if torch.cuda.is_available() else \"cpu\")"
   ]
  },
  {
   "cell_type": "code",
   "execution_count": 4,
   "id": "78f26731",
   "metadata": {},
   "outputs": [],
   "source": [
    "data_transforms = {\n",
    "    'train': transforms.Compose([\n",
    "        transforms.Grayscale(num_output_channels=3),\n",
    "        transforms.Resize(224),\n",
    "        transforms.CenterCrop(224),\n",
    "        transforms.ToTensor(),\n",
    "        transforms.Normalize([0.1220, 0.1220, 0.1220], [0.2058, 0.2058, 0.2058])\n",
    "    ]),\n",
    "    'val': transforms.Compose([\n",
    "        transforms.Grayscale(num_output_channels=3),\n",
    "        transforms.Resize(224),\n",
    "        transforms.CenterCrop(224),\n",
    "        transforms.ToTensor(),\n",
    "        transforms.Normalize([0.1220, 0.1220, 0.1220], [0.2058, 0.2058, 0.2058])\n",
    "    ]),\n",
    "    'test': transforms.Compose([\n",
    "        transforms.Grayscale(num_output_channels=3),\n",
    "        transforms.Resize(224),\n",
    "        transforms.CenterCrop(224),\n",
    "        transforms.ToTensor(),\n",
    "        transforms.Normalize([0.1220, 0.1220, 0.1220], [0.2058, 0.2058, 0.2058])\n",
    "    ]),\n",
    "}"
   ]
  },
  {
   "cell_type": "code",
   "execution_count": 7,
   "id": "9a2002db",
   "metadata": {},
   "outputs": [],
   "source": [
    "image_datasets = {x: datasets.ImageFolder(os.path.join(DATA_ROOT, x),\n",
    "                                          data_transforms[x])\n",
    "                  for x in ['train', 'val', 'test']}\n",
    "data_loaders = {x: torch.utils.data.DataLoader(image_datasets[x], \n",
    "                                               batch_size=BATCH_SIZE,\n",
    "                                               shuffle=True, \n",
    "                                               num_workers=4)\n",
    "               for x in ['train', 'val', 'test']}"
   ]
  },
  {
   "cell_type": "code",
   "execution_count": 8,
   "id": "31a1801d",
   "metadata": {},
   "outputs": [],
   "source": [
    "m_resnet50 = models.resnet50(pretrained=True)\n",
    "for param in m_resnet50.parameters():\n",
    "    param.requires_grad = False\n",
    "    \n",
    "num_ftrs = m_resnet50.fc.in_features\n",
    "m_resnet50.fc = nn.Sequential(\n",
    "    nn.Linear(in_features=num_ftrs, out_features=CLASSES),\n",
    "    nn.Softmax(dim=1)\n",
    ")\n",
    "\n",
    "m_resnet50 = m_resnet50.to(device)"
   ]
  },
  {
   "cell_type": "code",
   "execution_count": 9,
   "id": "7a0a96f1",
   "metadata": {},
   "outputs": [],
   "source": [
    "losses = []\n",
    "lrs = []\n",
    "labels = []"
   ]
  },
  {
   "cell_type": "code",
   "execution_count": 10,
   "id": "85f58d30",
   "metadata": {},
   "outputs": [
    {
     "data": {
      "application/vnd.jupyter.widget-view+json": {
       "model_id": "6aa274f0e0e049669f20cf3795d62a50",
       "version_major": 2,
       "version_minor": 0
      },
      "text/plain": [
       "  0%|          | 0/100 [00:00<?, ?it/s]"
      ]
     },
     "metadata": {},
     "output_type": "display_data"
    },
    {
     "name": "stdout",
     "output_type": "stream",
     "text": [
      "Learning rate search finished. See the graph with {finder_name}.plot()\n"
     ]
    }
   ],
   "source": [
    "model = m_resnet50\n",
    "criterion = nn.CrossEntropyLoss()\n",
    "optimizer = optim.SGD(model.parameters(), lr=1e-9)\n",
    "\n",
    "lr_finder = LRFinder(model, optimizer, criterion, device=device)\n",
    "lr_finder.range_test(data_loaders['train'], val_loader=data_loaders['val'], end_lr=10, num_iter=100)"
   ]
  },
  {
   "cell_type": "code",
   "execution_count": 11,
   "id": "a75f8dc4",
   "metadata": {},
   "outputs": [],
   "source": [
    "history = lr_finder.history\n",
    "losses.append(history['loss'].copy())\n",
    "lrs.append(history['lr'].copy())\n",
    "labels.append(\"SGD\")"
   ]
  },
  {
   "cell_type": "code",
   "execution_count": 15,
   "id": "c85f6615",
   "metadata": {},
   "outputs": [
    {
     "name": "stdout",
     "output_type": "stream",
     "text": [
      "SGD LR suggestion: steepest gradient\n",
      "Suggested LR: 3.76E-02\n"
     ]
    },
    {
     "data": {
      "image/png": "[encoded data removed]",
      "text/plain": [
       "<Figure size 504x360 with 1 Axes>"
      ]
     },
     "metadata": {
      "needs_background": "light"
     },
     "output_type": "display_data"
    }
   ],
   "source": [
    "plots(losses, lrs, labels, title=\"ResNet50\")"
   ]
  },
  {
   "cell_type": "code",
   "execution_count": 13,
   "id": "477c0a0a",
   "metadata": {},
   "outputs": [],
   "source": [
    "PLOT_SIZE_X = 7\n",
    "PLOT_SIZE_Y = 5\n",
    "PLOT_LEFT_POS = 0.1\n",
    "PLOT_RIGHT_POS = 0.9\n",
    "PLOT_BOTTOM_POS = 0.15\n",
    "PLOT_TOP_POS = 0.85\n",
    "PLOT_MARGIN = 0.01\n",
    "PLOT_LW = 1\n",
    "PLOT_GRID_LW = 0.2\n",
    "PLOT_TICKS_Y_INTERVAL = 0.1"
   ]
  },
  {
   "cell_type": "code",
   "execution_count": 14,
   "id": "8a205e63",
   "metadata": {},
   "outputs": [],
   "source": [
    "def plots(lss, l_rs, lbls,\n",
    "          skip_start=5,\n",
    "          skip_end=10,\n",
    "          log_lr=True,\n",
    "          show_lr=None,\n",
    "          ax=None,\n",
    "          suggest_lr=True, title=None\n",
    "         ):\n",
    "    \n",
    "    colors = cycler('color', ['gold', \n",
    "                              'darkorange',\n",
    "#                               'y', \n",
    "#                               'forestgreen',\n",
    "#                               'turquoise', \n",
    "                              'dodgerblue',\n",
    "                              'rebeccapurple'])\n",
    "    plt.rc('axes', prop_cycle=colors)\n",
    "    \n",
    "    fig, ax = plt.subplots(figsize=(7, 5))\n",
    "    plt.subplots_adjust(left=PLOT_LEFT_POS, right=PLOT_RIGHT_POS, bottom=PLOT_BOTTOM_POS, top=PLOT_TOP_POS)\n",
    "    plt.margins(x=PLOT_MARGIN)\n",
    "\n",
    "    lrs = history[\"lr\"]\n",
    "    losses = history[\"loss\"]\n",
    "    \n",
    "\n",
    "    for ls, l_r, lbl in zip(lss, l_rs, lbls):\n",
    "        if skip_end == 0:\n",
    "            l_r = l_r[skip_start:]\n",
    "            ls = ls[skip_start:]\n",
    "        else:\n",
    "            l_r = l_r[skip_start:-skip_end]\n",
    "            ls = ls[skip_start:-skip_end]\n",
    "\n",
    "\n",
    "        plt.plot(l_r, ls, label=lbl)\n",
    "\n",
    "        if suggest_lr:\n",
    "            print(f\"{lbl} LR suggestion: steepest gradient\")\n",
    "            min_grad_idx = None\n",
    "            try:\n",
    "                min_grad_idx = (np.gradient(np.array(ls))).argmin()\n",
    "            except ValueError:\n",
    "                print(\n",
    "                    \"Failed to compute the gradients, there might not be enough points.\"\n",
    "                )\n",
    "            if min_grad_idx is not None:\n",
    "                print(\"Suggested LR: {:.2E}\".format(l_r[min_grad_idx]))\n",
    "\n",
    "    plt.xscale(\"log\")\n",
    "    \n",
    "    plt.title(f\"{title} learning rate finder\")\n",
    "    plt.xlabel(\"Learning rate\")\n",
    "    plt.ylabel(\"Loss\")\n",
    "\n",
    "    legend = plt.legend(loc='lower left')\n",
    "    legend.get_frame().set_facecolor('white')\n",
    "    legend.get_frame().set_edgecolor('white')\n",
    "\n",
    "    plt.grid(axis='y', lw=PLOT_GRID_LW)\n",
    "    ax.yaxis.set_major_locator(ticker.MultipleLocator(0.1))\n",
    "    ax.yaxis.set_minor_locator(ticker.MultipleLocator(0.1 / 5))\n",
    "\n",
    "    plt.show()"
   ]
  }
 ],
 "metadata": {
  "kernelspec": {
   "display_name": "Python 3 (ipykernel)",
   "language": "python",
   "name": "python3"
  },
  "language_info": {
   "codemirror_mode": {
    "name": "ipython",
    "version": 3
   },
   "file_extension": ".py",
   "mimetype": "text/x-python",
   "name": "python",
   "nbconvert_exporter": "python",
   "pygments_lexer": "ipython3",
   "version": "3.9.7"
  }
 },
 "nbformat": 4,
 "nbformat_minor": 5
}
