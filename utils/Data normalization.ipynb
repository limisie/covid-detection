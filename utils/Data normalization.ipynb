{
 "cells": [
  {
   "cell_type": "markdown",
   "id": "3250a027",
   "metadata": {},
   "source": [
    "# Data normalization and standardization"
   ]
  },
  {
   "cell_type": "code",
   "execution_count": 1,
   "id": "8bc9fc5e",
   "metadata": {},
   "outputs": [],
   "source": [
    "import os\n",
    "import torch\n",
    "from torchvision import datasets, transforms"
   ]
  },
  {
   "cell_type": "code",
   "execution_count": 2,
   "id": "ad4bdca1",
   "metadata": {},
   "outputs": [],
   "source": [
    "DATA_ROOT = '../data/segmented/'"
   ]
  },
  {
   "cell_type": "code",
   "execution_count": 3,
   "id": "33062e13",
   "metadata": {},
   "outputs": [],
   "source": [
    "data_transform = transforms.Compose([\n",
    "    transforms.Grayscale(num_output_channels=3),\n",
    "    transforms.Resize(224),\n",
    "    transforms.CenterCrop(224),\n",
    "    transforms.ToTensor()\n",
    "])"
   ]
  },
  {
   "cell_type": "code",
   "execution_count": 4,
   "id": "1042f4ba",
   "metadata": {},
   "outputs": [],
   "source": [
    "image_datasets = {x: datasets.ImageFolder(os.path.join(DATA_ROOT, x), \n",
    "                                          transform=data_transform)\n",
    "                  for x in ['train', 'val', 'test']}\n",
    "data_loaders = {x: torch.utils.data.DataLoader(image_datasets[x],\n",
    "                                         batch_size=8,\n",
    "                                         shuffle=False,\n",
    "                                         num_workers=4)\n",
    "                for x in ['train', 'val', 'test']}"
   ]
  },
  {
   "cell_type": "markdown",
   "id": "7bcb2535",
   "metadata": {},
   "source": [
    "To perform a data normalization and a standarization it is required to compute mean and standard deviation of the whole dataset"
   ]
  },
  {
   "cell_type": "code",
   "execution_count": 5,
   "id": "58d7cdba",
   "metadata": {},
   "outputs": [],
   "source": [
    "def get_mean_and_std(dataloaders):\n",
    "    channels_sum, channels_squared_sum, num_batches = 0, 0, 0\n",
    "    \n",
    "    for phase in ['train', 'val', 'test']:\n",
    "        for data, _ in dataloaders[phase]:\n",
    "            channels_sum += torch.mean(data, dim=[0, 2, 3])\n",
    "            channels_squared_sum += torch.mean(data ** 2, dim=[0, 2, 3])\n",
    "            num_batches += 1\n",
    "    \n",
    "    mean = channels_sum / num_batches\n",
    "    std = (channels_squared_sum / num_batches - mean ** 2) ** 0.5\n",
    "\n",
    "    return mean, std"
   ]
  },
  {
   "cell_type": "code",
   "execution_count": 6,
   "id": "e6a39c73",
   "metadata": {},
   "outputs": [
    {
     "data": {
      "text/plain": [
       "(tensor([0.1220, 0.1220, 0.1220]), tensor([0.2058, 0.2058, 0.2058]))"
      ]
     },
     "execution_count": 6,
     "metadata": {},
     "output_type": "execute_result"
    }
   ],
   "source": [
    "get_mean_and_std(data_loaders)"
   ]
  }
 ],
 "metadata": {
  "kernelspec": {
   "display_name": "Python 3 (ipykernel)",
   "language": "python",
   "name": "python3"
  },
  "language_info": {
   "codemirror_mode": {
    "name": "ipython",
    "version": 3
   },
   "file_extension": ".py",
   "mimetype": "text/x-python",
   "name": "python",
   "nbconvert_exporter": "python",
   "pygments_lexer": "ipython3",
   "version": "3.9.7"
  }
 },
 "nbformat": 4,
 "nbformat_minor": 5
}
