{
 "cells": [
  {
   "cell_type": "markdown",
   "id": "473c41f2",
   "metadata": {},
   "source": [
    "# Histogram equalization methods comparison"
   ]
  },
  {
   "cell_type": "code",
   "execution_count": null,
   "id": "6560a5ee",
   "metadata": {},
   "outputs": [],
   "source": [
    "import cv2\n",
    "import numpy as np\n",
    "import matplotlib.pyplot as plt\n",
    "import glob"
   ]
  },
  {
   "cell_type": "code",
   "execution_count": null,
   "id": "891b1422",
   "metadata": {},
   "outputs": [],
   "source": [
    "NR = 6\n",
    "IMG_PATH = f'./data/original/val/covid/COVID-19 ({NR}).jpg'\n",
    "MASK_PATH = f'./data/masks/val/covid/COVID-19 ({NR})_mask.png'\n",
    "OUTPUT_PATH = f'./data/segmented/val/covid/COVID-19 ({NR}).png'"
   ]
  },
  {
   "cell_type": "code",
   "execution_count": null,
   "id": "764bc040",
   "metadata": {},
   "outputs": [],
   "source": [
    "img = cv2.cvtColor(cv2.imread(IMG_PATH), cv2.COLOR_BGR2GRAY)\n",
    "mask = cv2.cvtColor(cv2.imread(MASK_PATH), cv2.COLOR_BGR2GRAY)"
   ]
  },
  {
   "cell_type": "code",
   "execution_count": null,
   "id": "90b6a6d3",
   "metadata": {},
   "outputs": [],
   "source": [
    "cv2.imwrite(f\"{OUTPUT_PATH}COVID-19 ({NR}) - ORIGINAL IMAGE.png\", img)\n",
    "\n",
    "equalized = cv2.equalizeHist(img)\n",
    "cv2.imwrite(f\"{OUTPUT_PATH}COVID-19 ({NR}) - HE.png\", equalized)\n",
    "\n",
    "clahe = cv2.createCLAHE(clipLimit=2.5, tileGridSize=(8, 8))\n",
    "cl1 = clahe.apply(img)\n",
    "cv2.imwrite(f\"{OUTPUT_PATH}COVID-19 ({NR}) - CLAHE.png\", cl1)"
   ]
  },
  {
   "cell_type": "code",
   "execution_count": null,
   "id": "b4b14d2a",
   "metadata": {},
   "outputs": [],
   "source": [
    "result = cv2.bitwise_and(cl1, mask)\n",
    "cv2.imwrite(OUTPUT_PATH, result)"
   ]
  }
 ],
 "metadata": {
  "kernelspec": {
   "display_name": "Python 3 (ipykernel)",
   "language": "python",
   "name": "python3"
  },
  "language_info": {
   "codemirror_mode": {
    "name": "ipython",
    "version": 3
   },
   "file_extension": ".py",
   "mimetype": "text/x-python",
   "name": "python",
   "nbconvert_exporter": "python",
   "pygments_lexer": "ipython3",
   "version": "3.9.7"
  }
 },
 "nbformat": 4,
 "nbformat_minor": 5
}
