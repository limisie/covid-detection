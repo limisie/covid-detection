{
 "cells": [
  {
   "cell_type": "code",
   "execution_count": null,
   "id": "ac50d341",
   "metadata": {},
   "outputs": [],
   "source": [
    "import glob\n",
    "import cv2 \n",
    "from matplotlib import pyplot as plt"
   ]
  },
  {
   "cell_type": "code",
   "execution_count": null,
   "id": "704a62e7",
   "metadata": {},
   "outputs": [],
   "source": [
    "IMG_PATH_COVID = '../data/original/test/covid'\n",
    "IMG_PATH_NON = '../data/original/test/non'\n",
    "\n",
    "NEW_COVID = '../data/black_box/raw/test/covid'\n",
    "NEW_NON = '../data/black_box/raw/test/non'\n",
    "\n",
    "IMG_SIZE = 224\n",
    "BOX_SIZE = int(224 * 0.8)"
   ]
  },
  {
   "cell_type": "code",
   "execution_count": null,
   "id": "dc7035e0",
   "metadata": {},
   "outputs": [],
   "source": [
    "def get_resized_dim(size, smaller_edge=224):\n",
    "    smaller_edge = min(size)\n",
    "    smaller_edge_idx = size.index(smaller_edge)\n",
    "\n",
    "    dim = [0, 0]\n",
    "    dim[smaller_edge_idx] = 224\n",
    "    dim[smaller_edge_idx - 1] = int(224 * size[smaller_edge_idx - 1] / size[smaller_edge_idx])\n",
    "    \n",
    "    return (dim[1], dim[0])"
   ]
  },
  {
   "cell_type": "code",
   "execution_count": null,
   "id": "e070daec",
   "metadata": {},
   "outputs": [],
   "source": [
    "def overlay_black_box(img_dir, new_dir):\n",
    "    paths = glob.glob(f'{img_dir}/*')\n",
    "\n",
    "    for path in paths:\n",
    "        img = cv2.imread(path, 0)\n",
    "        img_name= path.split('/')[-1].split('.')[0]\n",
    "        new_path = f'{new_dir}/{img_name}.png'\n",
    "\n",
    "        new_dim = get_resized_dim(img.shape)\n",
    "        img = cv2.resize(img, new_dim)\n",
    "\n",
    "        x1 = int((new_dim[0] - BOX_SIZE) / 2)\n",
    "        x2 = x1 + BOX_SIZE\n",
    "        y1 = int((new_dim[1] - BOX_SIZE) / 2)\n",
    "        y2 = y1 + BOX_SIZE\n",
    "\n",
    "        start_point = (x1, y1)\n",
    "        end_point = (x2, y2)\n",
    "\n",
    "        color = (0, 0, 0)\n",
    "        thickness = -1\n",
    "\n",
    "        black_boxed = cv2.rectangle(img, start_point, end_point, color, thickness)\n",
    "        cv2.imwrite(new_path, black_boxed) "
   ]
  },
  {
   "cell_type": "code",
   "execution_count": null,
   "id": "84996531",
   "metadata": {},
   "outputs": [],
   "source": [
    "overlay_black_box(IMG_PATH_NON, NEW_NON)"
   ]
  }
 ],
 "metadata": {
  "kernelspec": {
   "display_name": "Python 3 (ipykernel)",
   "language": "python",
   "name": "python3"
  },
  "language_info": {
   "codemirror_mode": {
    "name": "ipython",
    "version": 3
   },
   "file_extension": ".py",
   "mimetype": "text/x-python",
   "name": "python",
   "nbconvert_exporter": "python",
   "pygments_lexer": "ipython3",
   "version": "3.9.7"
  }
 },
 "nbformat": 4,
 "nbformat_minor": 5
}
